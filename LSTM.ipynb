{
  "nbformat": 4,
  "nbformat_minor": 0,
  "metadata": {
    "colab": {
      "name": "LSTM.ipynb",
      "provenance": [],
      "collapsed_sections": [],
      "authorship_tag": "ABX9TyNzMgwmJfGBCwyke+x/V7KV",
      "include_colab_link": true
    },
    "kernelspec": {
      "name": "python3",
      "display_name": "Python 3"
    },
    "language_info": {
      "name": "python"
    }
  },
  "cells": [
    {
      "cell_type": "markdown",
      "metadata": {
        "id": "view-in-github",
        "colab_type": "text"
      },
      "source": [
        "<a href=\"https://colab.research.google.com/github/amygardiner/DataScienceProject/blob/main/LSTM.ipynb\" target=\"_parent\"><img src=\"https://colab.research.google.com/assets/colab-badge.svg\" alt=\"Open In Colab\"/></a>"
      ]
    },
    {
      "cell_type": "code",
      "source": [
        "!pip install torch==1.12.0 torchvision==0.13.0"
      ],
      "metadata": {
        "colab": {
          "base_uri": "https://localhost:8080/"
        },
        "id": "KybNYZJXEAxz",
        "outputId": "dae06d2d-787d-4e73-e68e-20e8d7d7a41f"
      },
      "execution_count": 11,
      "outputs": [
        {
          "output_type": "stream",
          "name": "stdout",
          "text": [
            "Looking in indexes: https://pypi.org/simple, https://us-python.pkg.dev/colab-wheels/public/simple/\n",
            "Requirement already satisfied: torch==1.12.0 in /usr/local/lib/python3.7/dist-packages (1.12.0+cu113)\n",
            "Requirement already satisfied: torchvision==0.13.0 in /usr/local/lib/python3.7/dist-packages (0.13.0+cu113)\n",
            "Requirement already satisfied: typing-extensions in /usr/local/lib/python3.7/dist-packages (from torch==1.12.0) (4.1.1)\n",
            "Requirement already satisfied: pillow!=8.3.*,>=5.3.0 in /usr/local/lib/python3.7/dist-packages (from torchvision==0.13.0) (7.1.2)\n",
            "Requirement already satisfied: requests in /usr/local/lib/python3.7/dist-packages (from torchvision==0.13.0) (2.23.0)\n",
            "Requirement already satisfied: numpy in /usr/local/lib/python3.7/dist-packages (from torchvision==0.13.0) (1.21.6)\n",
            "Requirement already satisfied: certifi>=2017.4.17 in /usr/local/lib/python3.7/dist-packages (from requests->torchvision==0.13.0) (2022.6.15)\n",
            "Requirement already satisfied: urllib3!=1.25.0,!=1.25.1,<1.26,>=1.21.1 in /usr/local/lib/python3.7/dist-packages (from requests->torchvision==0.13.0) (1.24.3)\n",
            "Requirement already satisfied: chardet<4,>=3.0.2 in /usr/local/lib/python3.7/dist-packages (from requests->torchvision==0.13.0) (3.0.4)\n",
            "Requirement already satisfied: idna<3,>=2.5 in /usr/local/lib/python3.7/dist-packages (from requests->torchvision==0.13.0) (2.10)\n"
          ]
        }
      ]
    },
    {
      "cell_type": "code",
      "source": [
        "!pip install torchtext==0.10.0 --quiet"
      ],
      "metadata": {
        "colab": {
          "base_uri": "https://localhost:8080/"
        },
        "id": "6EQeHETdDUvE",
        "outputId": "a7e33040-6987-4cb0-d938-8900853ebb5d"
      },
      "execution_count": 25,
      "outputs": [
        {
          "output_type": "stream",
          "name": "stdout",
          "text": [
            "\u001b[K     |████████████████████████████████| 7.6 MB 4.4 MB/s \n",
            "\u001b[K     |████████████████████████████████| 831.4 MB 2.3 kB/s \n",
            "\u001b[31mERROR: pip's dependency resolver does not currently take into account all the packages that are installed. This behaviour is the source of the following dependency conflicts.\n",
            "torchvision 0.13.0+cu113 requires torch==1.12.0, but you have torch 1.9.0 which is incompatible.\n",
            "torchaudio 0.12.0+cu113 requires torch==1.12.0, but you have torch 1.9.0 which is incompatible.\u001b[0m\n",
            "\u001b[?25h"
          ]
        }
      ]
    },
    {
      "cell_type": "code",
      "execution_count": 1,
      "metadata": {
        "colab": {
          "base_uri": "https://localhost:8080/"
        },
        "id": "jxgAw97l_H3e",
        "outputId": "581c811a-36a6-49cc-94fc-c4f20d170c2b"
      },
      "outputs": [
        {
          "output_type": "stream",
          "name": "stdout",
          "text": [
            "Mounted at /content/drive\n"
          ]
        }
      ],
      "source": [
        "from google.colab import drive\n",
        "drive.mount('/content/drive')"
      ]
    },
    {
      "cell_type": "code",
      "source": [
        "import pandas as pd\n",
        "from sklearn.model_selection import train_test_split\n",
        "\n",
        "raw_data_path = \"/content/drive/My Drive/Colab Notebooks/Project/alldata.txt\"\n",
        "\n",
        "destination_folder = \"/content/drive/My Drive/Colab Notebooks/Project/\"\n",
        "\n",
        "train_test_ratio = 0.10\n",
        "train_valid_ratio = 0.80\n",
        "\n",
        "first_n_words = 20\n",
        "\n",
        "def trim_string(x):\n",
        "    x = x.split(maxsplit=first_n_words)\n",
        "    x = ' '.join(x[:first_n_words])\n",
        "    return x"
      ],
      "metadata": {
        "id": "6JEv8cki_R7s"
      },
      "execution_count": 1,
      "outputs": []
    },
    {
      "cell_type": "code",
      "source": [
        "df_raw = pd.read_csv(raw_data_path, sep=\"\\t\")\n",
        "df_raw.drop(columns=df_raw.columns[0], axis=1, inplace=True)\n",
        "df_raw.drop(columns=df_raw.columns[0], axis=1, inplace=True)\n",
        "numericalmap = {'injured_or_dead_people':1/9, 'missing_trapped_or_found_people':2/9, 'displaced_people_and_evacuations':3/9, 'infrastructure_and_utilities_damage':4/9, 'donation_needs_or_offers_or_volunteering_services':5/9, 'caution_and_advice':6/9, 'sympathy_and_emotional_support':7/9, 'other_useful_information':8/9, 'not_related_or_irrelevant':1}\n",
        "df=df_raw.applymap(lambda s: numericalmap.get(s) if s in numericalmap else s)\n",
        "df.columns=['text','label']\n",
        "df_full_train, df_test = train_test_split(df, train_size = train_test_ratio, random_state = 1)\n",
        "df_train, df_valid = train_test_split(df_full_train, train_size = train_valid_ratio, random_state = 1)"
      ],
      "metadata": {
        "id": "pXcZ1f0L_vCp"
      },
      "execution_count": 3,
      "outputs": []
    },
    {
      "cell_type": "code",
      "source": [
        "df_train.to_csv(destination_folder + '/train.csv', index=False)\n",
        "df_valid.to_csv(destination_folder + '/valid.csv', index=False)\n",
        "df_test.to_csv(destination_folder + '/test.csv', index=False)"
      ],
      "metadata": {
        "id": "7n4Sxf4QBNnk"
      },
      "execution_count": 4,
      "outputs": []
    },
    {
      "cell_type": "code",
      "source": [
        "# Libraries\n",
        "\n",
        "import matplotlib.pyplot as plt\n",
        "import pandas as pd\n",
        "import torch\n",
        "\n",
        "# Preliminaries\n",
        "\n",
        "#from torchtext.data import Field, TabularDataset, BucketIterator\n",
        "from torchtext.legacy.data import Field, TabularDataset, BucketIterator, Iterator\n",
        "\n",
        "# Models\n",
        "\n",
        "import torch.nn as nn\n",
        "from torch.nn.utils.rnn import pack_padded_sequence, pad_packed_sequence\n",
        "\n",
        "# Training\n",
        "\n",
        "import torch.optim as optim\n",
        "\n",
        "# Evaluation\n",
        "\n",
        "from sklearn.metrics import accuracy_score, classification_report, confusion_matrix\n",
        "import seaborn as sns"
      ],
      "metadata": {
        "id": "RRm30H6dBP-D"
      },
      "execution_count": 6,
      "outputs": []
    },
    {
      "cell_type": "code",
      "source": [
        "# Fields\n",
        "\n",
        "label_field = Field(sequential=False, use_vocab=False, batch_first=True, dtype=torch.float)\n",
        "text_field = Field(tokenize='spacy', lower=True, include_lengths=True, batch_first=True)\n",
        "fields = [('text', text_field), ('label', label_field)]\n",
        "\n",
        "# TabularDataset\n",
        "\n",
        "train, valid, test = TabularDataset.splits(path=destination_folder, train='train.csv', validation='valid.csv', test='test.csv',\n",
        "                                           format='CSV', fields=fields, skip_header=True)\n",
        "\n",
        "# Iterators\n",
        "device = torch.device('cuda' if torch.cuda.is_available() else 'cpu')\n",
        "train_iter = BucketIterator(train, batch_size=32, sort_key=lambda x: len(x.text),\n",
        "                            device=device, sort=True, sort_within_batch=True)\n",
        "valid_iter = BucketIterator(valid, batch_size=32, sort_key=lambda x: len(x.text),\n",
        "                            device=device, sort=True, sort_within_batch=True)\n",
        "test_iter = BucketIterator(test, batch_size=32, sort_key=lambda x: len(x.text),\n",
        "                            device=device, sort=True, sort_within_batch=True)\n",
        "\n",
        "# Vocabulary\n",
        "\n",
        "text_field.build_vocab(train, min_freq=3)"
      ],
      "metadata": {
        "colab": {
          "base_uri": "https://localhost:8080/"
        },
        "id": "OB0dGu-9BZKt",
        "outputId": "2a8dfea1-cc25-4f65-bc55-cce706b53ea1"
      },
      "execution_count": 7,
      "outputs": [
        {
          "output_type": "stream",
          "name": "stderr",
          "text": [
            "/usr/local/lib/python3.7/dist-packages/torchtext/data/utils.py:123: UserWarning: Spacy model \"en\" could not be loaded, trying \"en_core_web_sm\" instead\n",
            "  warnings.warn(f'Spacy model \"{language}\" could not be loaded, trying \"{OLD_MODEL_SHORTCUTS[language]}\" instead')\n"
          ]
        }
      ]
    },
    {
      "cell_type": "code",
      "source": [
        "class LSTM(nn.Module):\n",
        "\n",
        "    def __init__(self, dimension=128):\n",
        "        super(LSTM, self).__init__()\n",
        "\n",
        "        self.embedding = nn.Embedding(len(text_field.vocab), 300)\n",
        "        self.dimension = dimension\n",
        "        self.lstm = nn.LSTM(input_size=300,\n",
        "                            hidden_size=dimension,\n",
        "                            num_layers=1,\n",
        "                            batch_first=True,\n",
        "                            bidirectional=True)\n",
        "        self.drop = nn.Dropout(p=0.5)\n",
        "\n",
        "        self.fc = nn.Linear(2*dimension, 1)\n",
        "\n",
        "    def forward(self, text, text_len):\n",
        "\n",
        "        text_emb = self.embedding(text)\n",
        "\n",
        "        packed_input = pack_padded_sequence(text_emb, text_len, batch_first=True, enforce_sorted=False)\n",
        "        packed_output, _ = self.lstm(packed_input)\n",
        "        output, _ = pad_packed_sequence(packed_output, batch_first=True)\n",
        "\n",
        "        out_forward = output[range(len(output)), text_len - 1, :self.dimension]\n",
        "        out_reverse = output[:, 0, self.dimension:]\n",
        "        out_reduced = torch.cat((out_forward, out_reverse), 1)\n",
        "        text_fea = self.drop(out_reduced)\n",
        "\n",
        "        text_fea = self.fc(text_fea)\n",
        "        text_fea = torch.squeeze(text_fea, 1)\n",
        "        text_out = torch.sigmoid(text_fea)\n",
        "\n",
        "        return text_out"
      ],
      "metadata": {
        "id": "-50s5z-QFpaJ"
      },
      "execution_count": 8,
      "outputs": []
    },
    {
      "cell_type": "code",
      "source": [
        "# Save and Load Functions\n",
        "\n",
        "def save_checkpoint(save_path, model, optimizer, valid_loss):\n",
        "\n",
        "    if save_path == None:\n",
        "        return\n",
        "    \n",
        "    state_dict = {'model_state_dict': model.state_dict(),\n",
        "                  'optimizer_state_dict': optimizer.state_dict(),\n",
        "                  'valid_loss': valid_loss}\n",
        "    \n",
        "    torch.save(state_dict, save_path)\n",
        "    print(f'Model saved to ==> {save_path}')\n",
        "\n",
        "\n",
        "def load_checkpoint(load_path, model, optimizer):\n",
        "\n",
        "    if load_path==None:\n",
        "        return\n",
        "    \n",
        "    state_dict = torch.load(load_path, map_location=device)\n",
        "    print(f'Model loaded from <== {load_path}')\n",
        "    \n",
        "    model.load_state_dict(state_dict['model_state_dict'])\n",
        "    optimizer.load_state_dict(state_dict['optimizer_state_dict'])\n",
        "    \n",
        "    return state_dict['valid_loss']\n",
        "\n",
        "\n",
        "def save_metrics(save_path, train_loss_list, valid_loss_list, global_steps_list):\n",
        "\n",
        "    if save_path == None:\n",
        "        return\n",
        "    \n",
        "    state_dict = {'train_loss_list': train_loss_list,\n",
        "                  'valid_loss_list': valid_loss_list,\n",
        "                  'global_steps_list': global_steps_list}\n",
        "    \n",
        "    torch.save(state_dict, save_path)\n",
        "    print(f'Model saved to ==> {save_path}')\n",
        "\n",
        "\n",
        "def load_metrics(load_path):\n",
        "\n",
        "    if load_path==None:\n",
        "        return\n",
        "    \n",
        "    state_dict = torch.load(load_path, map_location=device)\n",
        "    print(f'Model loaded from <== {load_path}')\n",
        "    \n",
        "    return state_dict['train_loss_list'], state_dict['valid_loss_list'], state_dict['global_steps_list']"
      ],
      "metadata": {
        "id": "zhC3paihGvHR"
      },
      "execution_count": 9,
      "outputs": []
    },
    {
      "cell_type": "code",
      "source": [
        "# Training Function\n",
        "\n",
        "def train(model,\n",
        "          optimizer,\n",
        "          criterion = nn.BCELoss(),\n",
        "          train_loader = train_iter,\n",
        "          valid_loader = valid_iter,\n",
        "          num_epochs = 5,\n",
        "          eval_every = len(train_iter) // 2,\n",
        "          file_path = destination_folder,\n",
        "          best_valid_loss = float(\"Inf\")):\n",
        "    \n",
        "    # initialize running values\n",
        "    running_loss = 0.0\n",
        "    valid_running_loss = 0.0\n",
        "    global_step = 0\n",
        "    train_loss_list = []\n",
        "    valid_loss_list = []\n",
        "    global_steps_list = []\n",
        "\n",
        "    # training loop\n",
        "    model.train()\n",
        "    for epoch in range(num_epochs):\n",
        "        for ((text, text_len),labels), _ in train_loader:           \n",
        "            text = text.to(device)\n",
        "            text_len = text_len.to(device)\n",
        "            labels = labels.to(device)\n",
        "            output = model(text, text_len)\n",
        "\n",
        "            loss = criterion(output, labels)\n",
        "            optimizer.zero_grad()\n",
        "            loss.backward()\n",
        "            optimizer.step()\n",
        "\n",
        "            # update running values\n",
        "            running_loss += loss.item()\n",
        "            global_step += 1\n",
        "\n",
        "            # evaluation step\n",
        "            if global_step % eval_every == 0:\n",
        "                model.eval()\n",
        "                with torch.no_grad():                    \n",
        "                  # validation loop\n",
        "                  for ((text, text_len), labels), _ in valid_loader:\n",
        "                      text = text.to(device)\n",
        "                      text_len = text_len.to(device)\n",
        "                      labels = labels.to(device)\n",
        "                      output = model(text, text_len)\n",
        "\n",
        "                      loss = criterion(output, labels)\n",
        "                      valid_running_loss += loss.item()\n",
        "\n",
        "                # evaluation\n",
        "                average_train_loss = running_loss / eval_every\n",
        "                average_valid_loss = valid_running_loss / len(valid_loader)\n",
        "                train_loss_list.append(average_train_loss)\n",
        "                valid_loss_list.append(average_valid_loss)\n",
        "                global_steps_list.append(global_step)\n",
        "\n",
        "                # resetting running values\n",
        "                running_loss = 0.0                \n",
        "                valid_running_loss = 0.0\n",
        "                model.train()\n",
        "\n",
        "                # print progress\n",
        "                print('Epoch [{}/{}], Step [{}/{}], Train Loss: {:.4f}, Valid Loss: {:.4f}'\n",
        "                      .format(epoch+1, num_epochs, global_step, num_epochs*len(train_loader),\n",
        "                              average_train_loss, average_valid_loss))\n",
        "                \n",
        "                # checkpoint\n",
        "                if best_valid_loss > average_valid_loss:\n",
        "                    best_valid_loss = average_valid_loss\n",
        "                    save_checkpoint(file_path + '/lstmmodel.pt', model, optimizer, best_valid_loss)\n",
        "                    save_metrics(file_path + '/lstmmetrics.pt', train_loss_list, valid_loss_list, global_steps_list)\n",
        "    \n",
        "    save_metrics(file_path + '/lstmmetrics.pt', train_loss_list, valid_loss_list, global_steps_list)\n",
        "    print('Finished Training!')\n",
        "\n",
        "\n",
        "model = LSTM().to(device)\n",
        "optimizer = optim.Adam(model.parameters(), lr=0.001)\n",
        "\n",
        "train(model=model, optimizer=optimizer, num_epochs=10)"
      ],
      "metadata": {
        "colab": {
          "base_uri": "https://localhost:8080/"
        },
        "id": "p51oye4MG0BS",
        "outputId": "bb8b0d78-68d0-4b7d-9a94-29edc2d1bb88"
      },
      "execution_count": 12,
      "outputs": [
        {
          "output_type": "stream",
          "name": "stdout",
          "text": [
            "Epoch [1/10], Step [22/440], Train Loss: 0.6421, Valid Loss: 0.6205\n",
            "Model saved to ==> /content/drive/My Drive/Colab Notebooks/Project//lstmmodel.pt\n",
            "Model saved to ==> /content/drive/My Drive/Colab Notebooks/Project//lstmmetrics.pt\n",
            "Epoch [1/10], Step [44/440], Train Loss: 0.6365, Valid Loss: 0.6114\n",
            "Model saved to ==> /content/drive/My Drive/Colab Notebooks/Project//lstmmodel.pt\n",
            "Model saved to ==> /content/drive/My Drive/Colab Notebooks/Project//lstmmetrics.pt\n",
            "Epoch [2/10], Step [66/440], Train Loss: 0.5917, Valid Loss: 0.6001\n",
            "Model saved to ==> /content/drive/My Drive/Colab Notebooks/Project//lstmmodel.pt\n",
            "Model saved to ==> /content/drive/My Drive/Colab Notebooks/Project//lstmmetrics.pt\n",
            "Epoch [2/10], Step [88/440], Train Loss: 0.5922, Valid Loss: 0.5755\n",
            "Model saved to ==> /content/drive/My Drive/Colab Notebooks/Project//lstmmodel.pt\n",
            "Model saved to ==> /content/drive/My Drive/Colab Notebooks/Project//lstmmetrics.pt\n",
            "Epoch [3/10], Step [110/440], Train Loss: 0.5478, Valid Loss: 0.5739\n",
            "Model saved to ==> /content/drive/My Drive/Colab Notebooks/Project//lstmmodel.pt\n",
            "Model saved to ==> /content/drive/My Drive/Colab Notebooks/Project//lstmmetrics.pt\n",
            "Epoch [3/10], Step [132/440], Train Loss: 0.5494, Valid Loss: 0.5647\n",
            "Model saved to ==> /content/drive/My Drive/Colab Notebooks/Project//lstmmodel.pt\n",
            "Model saved to ==> /content/drive/My Drive/Colab Notebooks/Project//lstmmetrics.pt\n",
            "Epoch [4/10], Step [154/440], Train Loss: 0.5110, Valid Loss: 0.5569\n",
            "Model saved to ==> /content/drive/My Drive/Colab Notebooks/Project//lstmmodel.pt\n",
            "Model saved to ==> /content/drive/My Drive/Colab Notebooks/Project//lstmmetrics.pt\n",
            "Epoch [4/10], Step [176/440], Train Loss: 0.5119, Valid Loss: 0.5534\n",
            "Model saved to ==> /content/drive/My Drive/Colab Notebooks/Project//lstmmodel.pt\n",
            "Model saved to ==> /content/drive/My Drive/Colab Notebooks/Project//lstmmetrics.pt\n",
            "Epoch [5/10], Step [198/440], Train Loss: 0.4790, Valid Loss: 0.5473\n",
            "Model saved to ==> /content/drive/My Drive/Colab Notebooks/Project//lstmmodel.pt\n",
            "Model saved to ==> /content/drive/My Drive/Colab Notebooks/Project//lstmmetrics.pt\n",
            "Epoch [5/10], Step [220/440], Train Loss: 0.4931, Valid Loss: 0.5530\n",
            "Epoch [6/10], Step [242/440], Train Loss: 0.4737, Valid Loss: 0.5663\n",
            "Epoch [6/10], Step [264/440], Train Loss: 0.4899, Valid Loss: 0.5588\n",
            "Epoch [7/10], Step [286/440], Train Loss: 0.4615, Valid Loss: 0.5585\n",
            "Epoch [7/10], Step [308/440], Train Loss: 0.4916, Valid Loss: 0.5561\n",
            "Epoch [8/10], Step [330/440], Train Loss: 0.4537, Valid Loss: 0.5588\n",
            "Epoch [8/10], Step [352/440], Train Loss: 0.4747, Valid Loss: 0.5570\n",
            "Epoch [9/10], Step [374/440], Train Loss: 0.4535, Valid Loss: 0.5569\n",
            "Epoch [9/10], Step [396/440], Train Loss: 0.4747, Valid Loss: 0.5651\n",
            "Epoch [10/10], Step [418/440], Train Loss: 0.4448, Valid Loss: 0.5840\n",
            "Epoch [10/10], Step [440/440], Train Loss: 0.4748, Valid Loss: 0.5687\n",
            "Model saved to ==> /content/drive/My Drive/Colab Notebooks/Project//lstmmetrics.pt\n",
            "Finished Training!\n"
          ]
        }
      ]
    },
    {
      "cell_type": "code",
      "source": [
        "train_loss_list, valid_loss_list, global_steps_list = load_metrics(destination_folder + '/lstmmetrics.pt')\n",
        "plt.plot(global_steps_list, train_loss_list, label='Train')\n",
        "plt.plot(global_steps_list, valid_loss_list, label='Valid')\n",
        "plt.xlabel('Global Steps')\n",
        "plt.ylabel('Loss')\n",
        "plt.legend()\n",
        "plt.show() "
      ],
      "metadata": {
        "colab": {
          "base_uri": "https://localhost:8080/",
          "height": 298
        },
        "id": "ybfl94BIG5KJ",
        "outputId": "8225f280-ca0f-4429-cb82-a55da8f3b50d"
      },
      "execution_count": 13,
      "outputs": [
        {
          "output_type": "stream",
          "name": "stdout",
          "text": [
            "Model loaded from <== /content/drive/My Drive/Colab Notebooks/Project//lstmmetrics.pt\n"
          ]
        },
        {
          "output_type": "display_data",
          "data": {
            "text/plain": [
              "<Figure size 432x288 with 1 Axes>"
            ],
            "image/png": "[encoded data removed]"
          },
          "metadata": {
            "needs_background": "light"
          }
        }
      ]
    },
    {
      "cell_type": "code",
      "source": [
        ""
      ],
      "metadata": {
        "id": "3zwHL9k_KWLS"
      },
      "execution_count": null,
      "outputs": []
    }
  ]
}