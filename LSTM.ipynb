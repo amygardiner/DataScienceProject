{
  "nbformat": 4,
  "nbformat_minor": 0,
  "metadata": {
    "colab": {
      "name": "LSTM.ipynb",
      "provenance": [],
      "collapsed_sections": [],
      "authorship_tag": "ABX9TyMHZ2b2sXdbQeMShP/z8MZh",
      "include_colab_link": true
    },
    "kernelspec": {
      "name": "python3",
      "display_name": "Python 3"
    },
    "language_info": {
      "name": "python"
    }
  },
  "cells": [
    {
      "cell_type": "markdown",
      "metadata": {
        "id": "view-in-github",
        "colab_type": "text"
      },
      "source": [
        "<a href=\"https://colab.research.google.com/github/amygardiner/DataScienceProject/blob/main/LSTM.ipynb\" target=\"_parent\"><img src=\"https://colab.research.google.com/assets/colab-badge.svg\" alt=\"Open In Colab\"/></a>"
      ]
    },
    {
      "cell_type": "code",
      "source": [
        "!pip install torch==1.12.0 torchvision==0.13.0"
      ],
      "metadata": {
        "colab": {
          "base_uri": "https://localhost:8080/",
          "height": 480
        },
        "id": "KybNYZJXEAxz",
        "outputId": "0697e2da-28b4-4571-cc66-843cf3375276"
      },
      "execution_count": 15,
      "outputs": [
        {
          "output_type": "stream",
          "name": "stdout",
          "text": [
            "Looking in indexes: https://pypi.org/simple, https://us-python.pkg.dev/colab-wheels/public/simple/\n",
            "Collecting torch==1.12.0\n",
            "  Downloading torch-1.12.0-cp37-cp37m-manylinux1_x86_64.whl (776.3 MB)\n",
            "\u001b[K     |████████████████████████████████| 776.3 MB 16 kB/s \n",
            "\u001b[?25hRequirement already satisfied: torchvision==0.13.0 in /usr/local/lib/python3.7/dist-packages (0.13.0+cu113)\n",
            "Requirement already satisfied: typing-extensions in /usr/local/lib/python3.7/dist-packages (from torch==1.12.0) (4.1.1)\n",
            "Requirement already satisfied: requests in /usr/local/lib/python3.7/dist-packages (from torchvision==0.13.0) (2.23.0)\n",
            "Requirement already satisfied: pillow!=8.3.*,>=5.3.0 in /usr/local/lib/python3.7/dist-packages (from torchvision==0.13.0) (7.1.2)\n",
            "Requirement already satisfied: numpy in /usr/local/lib/python3.7/dist-packages (from torchvision==0.13.0) (1.21.6)\n",
            "Requirement already satisfied: idna<3,>=2.5 in /usr/local/lib/python3.7/dist-packages (from requests->torchvision==0.13.0) (2.10)\n",
            "Requirement already satisfied: certifi>=2017.4.17 in /usr/local/lib/python3.7/dist-packages (from requests->torchvision==0.13.0) (2022.6.15)\n",
            "Requirement already satisfied: urllib3!=1.25.0,!=1.25.1,<1.26,>=1.21.1 in /usr/local/lib/python3.7/dist-packages (from requests->torchvision==0.13.0) (1.24.3)\n",
            "Requirement already satisfied: chardet<4,>=3.0.2 in /usr/local/lib/python3.7/dist-packages (from requests->torchvision==0.13.0) (3.0.4)\n",
            "Installing collected packages: torch\n",
            "  Attempting uninstall: torch\n",
            "    Found existing installation: torch 1.8.0\n",
            "    Uninstalling torch-1.8.0:\n",
            "      Successfully uninstalled torch-1.8.0\n",
            "\u001b[31mERROR: pip's dependency resolver does not currently take into account all the packages that are installed. This behaviour is the source of the following dependency conflicts.\n",
            "torchtext 0.9.0 requires torch==1.8.0, but you have torch 1.12.0 which is incompatible.\u001b[0m\n",
            "Successfully installed torch-1.12.0\n"
          ]
        },
        {
          "output_type": "display_data",
          "data": {
            "application/vnd.colab-display-data+json": {
              "pip_warning": {
                "packages": [
                  "torch"
                ]
              }
            }
          },
          "metadata": {}
        }
      ]
    },
    {
      "cell_type": "code",
      "source": [
        "!pip install torchtext==0.9.0 --quiet"
      ],
      "metadata": {
        "colab": {
          "base_uri": "https://localhost:8080/"
        },
        "id": "6EQeHETdDUvE",
        "outputId": "c768b6c3-62dc-40b2-a8f7-ec739534c22d"
      },
      "execution_count": 16,
      "outputs": [
        {
          "output_type": "stream",
          "name": "stdout",
          "text": [
            "\u001b[31mERROR: pip's dependency resolver does not currently take into account all the packages that are installed. This behaviour is the source of the following dependency conflicts.\n",
            "torchvision 0.13.0+cu113 requires torch==1.12.0, but you have torch 1.8.0 which is incompatible.\n",
            "torchaudio 0.12.0+cu113 requires torch==1.12.0, but you have torch 1.8.0 which is incompatible.\u001b[0m\n"
          ]
        }
      ]
    },
    {
      "cell_type": "code",
      "execution_count": 1,
      "metadata": {
        "colab": {
          "base_uri": "https://localhost:8080/"
        },
        "id": "jxgAw97l_H3e",
        "outputId": "e13d2f30-8350-462e-d893-bb04353c3fe5"
      },
      "outputs": [
        {
          "output_type": "stream",
          "name": "stdout",
          "text": [
            "Drive already mounted at /content/drive; to attempt to forcibly remount, call drive.mount(\"/content/drive\", force_remount=True).\n"
          ]
        }
      ],
      "source": [
        "from google.colab import drive\n",
        "drive.mount('/content/drive')"
      ]
    },
    {
      "cell_type": "code",
      "source": [
        "import pandas as pd\n",
        "from sklearn.model_selection import train_test_split\n",
        "\n",
        "raw_data_path = \"/content/drive/My Drive/Colab Notebooks/Project/2014_California_Earthquake_CF_labeled_data.tsv\"\n",
        "destination_folder = \"/content/drive/My Drive/Colab Notebooks/Project/\"\n",
        "\n",
        "train_test_ratio = 0.10\n",
        "train_valid_ratio = 0.80\n",
        "\n",
        "first_n_words = 20\n",
        "\n",
        "def trim_string(x):\n",
        "    x = x.split(maxsplit=first_n_words)\n",
        "    x = ' '.join(x[:first_n_words])\n",
        "    return x"
      ],
      "metadata": {
        "id": "6JEv8cki_R7s"
      },
      "execution_count": 2,
      "outputs": []
    },
    {
      "cell_type": "code",
      "source": [
        "df_raw = pd.read_csv(raw_data_path, sep=\"\\t\")\n",
        "df_raw.drop('tweet_id', axis=1, inplace=True)\n",
        "numericalmap = {'injured_or_dead_people':1/9, 'missing_trapped_or_found_people':2/9, 'displaced_people_and_evacuations':3/9, 'infrastructure_and_utilities_damage':4/9, 'donation_needs_or_offers_or_volunteering_services':5/9, 'caution_and_advice':6/9, 'sympathy_and_emotional_support':7/9, 'other_useful_information':8/9, 'not_related_or_irrelevant':1}\n",
        "df=df_raw.applymap(lambda s: numericalmap.get(s) if s in numericalmap else s)\n",
        "df.columns=['text','label']\n",
        "df_full_train, df_test = train_test_split(df, train_size = train_test_ratio, random_state = 1)\n",
        "df_train, df_valid = train_test_split(df_full_train, train_size = train_valid_ratio, random_state = 1)"
      ],
      "metadata": {
        "id": "pXcZ1f0L_vCp"
      },
      "execution_count": 23,
      "outputs": []
    },
    {
      "cell_type": "code",
      "source": [
        "df_train.to_csv(destination_folder + '/train.csv', index=False)\n",
        "df_valid.to_csv(destination_folder + '/valid.csv', index=False)\n",
        "df_test.to_csv(destination_folder + '/test.csv', index=False)"
      ],
      "metadata": {
        "id": "7n4Sxf4QBNnk"
      },
      "execution_count": 24,
      "outputs": []
    },
    {
      "cell_type": "code",
      "source": [
        "# Libraries\n",
        "\n",
        "import matplotlib.pyplot as plt\n",
        "import pandas as pd\n",
        "import torch\n",
        "\n",
        "# Preliminaries\n",
        "\n",
        "#from torchtext.data import Field, TabularDataset, BucketIterator\n",
        "from torchtext.legacy.data import Field, TabularDataset, BucketIterator, Iterator\n",
        "\n",
        "# Models\n",
        "\n",
        "import torch.nn as nn\n",
        "from torch.nn.utils.rnn import pack_padded_sequence, pad_packed_sequence\n",
        "\n",
        "# Training\n",
        "\n",
        "import torch.optim as optim\n",
        "\n",
        "# Evaluation\n",
        "\n",
        "from sklearn.metrics import accuracy_score, classification_report, confusion_matrix\n",
        "import seaborn as sns"
      ],
      "metadata": {
        "id": "RRm30H6dBP-D"
      },
      "execution_count": 25,
      "outputs": []
    },
    {
      "cell_type": "code",
      "source": [
        "# Fields\n",
        "\n",
        "label_field = Field(sequential=False, use_vocab=False, batch_first=True, dtype=torch.float)\n",
        "text_field = Field(tokenize='spacy', lower=True, include_lengths=True, batch_first=True)\n",
        "fields = [('text', text_field), ('label', label_field)]\n",
        "\n",
        "# TabularDataset\n",
        "\n",
        "train, valid, test = TabularDataset.splits(path=destination_folder, train='train.csv', validation='valid.csv', test='test.csv',\n",
        "                                           format='CSV', fields=fields, skip_header=True)\n",
        "\n",
        "# Iterators\n",
        "device = torch.device('cuda' if torch.cuda.is_available() else 'cpu')\n",
        "train_iter = BucketIterator(train, batch_size=32, sort_key=lambda x: len(x.text),\n",
        "                            device=device, sort=True, sort_within_batch=True)\n",
        "valid_iter = BucketIterator(valid, batch_size=32, sort_key=lambda x: len(x.text),\n",
        "                            device=device, sort=True, sort_within_batch=True)\n",
        "test_iter = BucketIterator(test, batch_size=32, sort_key=lambda x: len(x.text),\n",
        "                            device=device, sort=True, sort_within_batch=True)\n",
        "\n",
        "# Vocabulary\n",
        "\n",
        "text_field.build_vocab(train, min_freq=3)"
      ],
      "metadata": {
        "colab": {
          "base_uri": "https://localhost:8080/"
        },
        "id": "OB0dGu-9BZKt",
        "outputId": "e3abcd9a-a5a0-47b3-df07-a7011decaa46"
      },
      "execution_count": 26,
      "outputs": [
        {
          "output_type": "stream",
          "name": "stderr",
          "text": [
            "/usr/local/lib/python3.7/dist-packages/torchtext/data/utils.py:123: UserWarning: Spacy model \"en\" could not be loaded, trying \"en_core_web_sm\" instead\n",
            "  warnings.warn(f'Spacy model \"{language}\" could not be loaded, trying \"{OLD_MODEL_SHORTCUTS[language]}\" instead')\n"
          ]
        }
      ]
    },
    {
      "cell_type": "code",
      "source": [
        "class LSTM(nn.Module):\n",
        "\n",
        "    def __init__(self, dimension=128):\n",
        "        super(LSTM, self).__init__()\n",
        "\n",
        "        self.embedding = nn.Embedding(len(text_field.vocab), 300)\n",
        "        self.dimension = dimension\n",
        "        self.lstm = nn.LSTM(input_size=300,\n",
        "                            hidden_size=dimension,\n",
        "                            num_layers=1,\n",
        "                            batch_first=True,\n",
        "                            bidirectional=True)\n",
        "        self.drop = nn.Dropout(p=0.5)\n",
        "\n",
        "        self.fc = nn.Linear(2*dimension, 1)\n",
        "\n",
        "    def forward(self, text, text_len):\n",
        "\n",
        "        text_emb = self.embedding(text)\n",
        "\n",
        "        packed_input = pack_padded_sequence(text_emb, text_len, batch_first=True, enforce_sorted=False)\n",
        "        packed_output, _ = self.lstm(packed_input)\n",
        "        output, _ = pad_packed_sequence(packed_output, batch_first=True)\n",
        "\n",
        "        out_forward = output[range(len(output)), text_len - 1, :self.dimension]\n",
        "        out_reverse = output[:, 0, self.dimension:]\n",
        "        out_reduced = torch.cat((out_forward, out_reverse), 1)\n",
        "        text_fea = self.drop(out_reduced)\n",
        "\n",
        "        text_fea = self.fc(text_fea)\n",
        "        text_fea = torch.squeeze(text_fea, 1)\n",
        "        text_out = torch.sigmoid(text_fea)\n",
        "\n",
        "        return text_out"
      ],
      "metadata": {
        "id": "-50s5z-QFpaJ"
      },
      "execution_count": 27,
      "outputs": []
    },
    {
      "cell_type": "code",
      "source": [
        "# Save and Load Functions\n",
        "\n",
        "def save_checkpoint(save_path, model, optimizer, valid_loss):\n",
        "\n",
        "    if save_path == None:\n",
        "        return\n",
        "    \n",
        "    state_dict = {'model_state_dict': model.state_dict(),\n",
        "                  'optimizer_state_dict': optimizer.state_dict(),\n",
        "                  'valid_loss': valid_loss}\n",
        "    \n",
        "    torch.save(state_dict, save_path)\n",
        "    print(f'Model saved to ==> {save_path}')\n",
        "\n",
        "\n",
        "def load_checkpoint(load_path, model, optimizer):\n",
        "\n",
        "    if load_path==None:\n",
        "        return\n",
        "    \n",
        "    state_dict = torch.load(load_path, map_location=device)\n",
        "    print(f'Model loaded from <== {load_path}')\n",
        "    \n",
        "    model.load_state_dict(state_dict['model_state_dict'])\n",
        "    optimizer.load_state_dict(state_dict['optimizer_state_dict'])\n",
        "    \n",
        "    return state_dict['valid_loss']\n",
        "\n",
        "\n",
        "def save_metrics(save_path, train_loss_list, valid_loss_list, global_steps_list):\n",
        "\n",
        "    if save_path == None:\n",
        "        return\n",
        "    \n",
        "    state_dict = {'train_loss_list': train_loss_list,\n",
        "                  'valid_loss_list': valid_loss_list,\n",
        "                  'global_steps_list': global_steps_list}\n",
        "    \n",
        "    torch.save(state_dict, save_path)\n",
        "    print(f'Model saved to ==> {save_path}')\n",
        "\n",
        "\n",
        "def load_metrics(load_path):\n",
        "\n",
        "    if load_path==None:\n",
        "        return\n",
        "    \n",
        "    state_dict = torch.load(load_path, map_location=device)\n",
        "    print(f'Model loaded from <== {load_path}')\n",
        "    \n",
        "    return state_dict['train_loss_list'], state_dict['valid_loss_list'], state_dict['global_steps_list']"
      ],
      "metadata": {
        "id": "zhC3paihGvHR"
      },
      "execution_count": 28,
      "outputs": []
    },
    {
      "cell_type": "code",
      "source": [
        "# Training Function\n",
        "\n",
        "def train(model,\n",
        "          optimizer,\n",
        "          criterion = nn.BCELoss(),\n",
        "          train_loader = train_iter,\n",
        "          valid_loader = valid_iter,\n",
        "          num_epochs = 5,\n",
        "          eval_every = len(train_iter) // 2,\n",
        "          file_path = destination_folder,\n",
        "          best_valid_loss = float(\"Inf\")):\n",
        "    \n",
        "    # initialize running values\n",
        "    running_loss = 0.0\n",
        "    valid_running_loss = 0.0\n",
        "    global_step = 0\n",
        "    train_loss_list = []\n",
        "    valid_loss_list = []\n",
        "    global_steps_list = []\n",
        "\n",
        "    # training loop\n",
        "    model.train()\n",
        "    for epoch in range(num_epochs):\n",
        "        for ((text, text_len),labels), _ in train_loader:           \n",
        "            text = text.to(device)\n",
        "            text_len = text_len.to(device)\n",
        "            labels = labels.to(device)\n",
        "            output = model(text, text_len)\n",
        "\n",
        "            loss = criterion(output, labels)\n",
        "            optimizer.zero_grad()\n",
        "            loss.backward()\n",
        "            optimizer.step()\n",
        "\n",
        "            # update running values\n",
        "            running_loss += loss.item()\n",
        "            global_step += 1\n",
        "\n",
        "            # evaluation step\n",
        "            if global_step % eval_every == 0:\n",
        "                model.eval()\n",
        "                with torch.no_grad():                    \n",
        "                  # validation loop\n",
        "                  for ((text, text_len), labels), _ in valid_loader:\n",
        "                      text = text.to(device)\n",
        "                      text_len = text_len.to(device)\n",
        "                      labels = labels.to(device)\n",
        "                      output = model(text, text_len)\n",
        "\n",
        "                      loss = criterion(output, labels)\n",
        "                      valid_running_loss += loss.item()\n",
        "\n",
        "                # evaluation\n",
        "                average_train_loss = running_loss / eval_every\n",
        "                average_valid_loss = valid_running_loss / len(valid_loader)\n",
        "                train_loss_list.append(average_train_loss)\n",
        "                valid_loss_list.append(average_valid_loss)\n",
        "                global_steps_list.append(global_step)\n",
        "\n",
        "                # resetting running values\n",
        "                running_loss = 0.0                \n",
        "                valid_running_loss = 0.0\n",
        "                model.train()\n",
        "\n",
        "                # print progress\n",
        "                print('Epoch [{}/{}], Step [{}/{}], Train Loss: {:.4f}, Valid Loss: {:.4f}'\n",
        "                      .format(epoch+1, num_epochs, global_step, num_epochs*len(train_loader),\n",
        "                              average_train_loss, average_valid_loss))\n",
        "                \n",
        "                # checkpoint\n",
        "                if best_valid_loss > average_valid_loss:\n",
        "                    best_valid_loss = average_valid_loss\n",
        "                    save_checkpoint(file_path + '/model.pt', model, optimizer, best_valid_loss)\n",
        "                    save_metrics(file_path + '/metrics.pt', train_loss_list, valid_loss_list, global_steps_list)\n",
        "    \n",
        "    save_metrics(file_path + '/metrics.pt', train_loss_list, valid_loss_list, global_steps_list)\n",
        "    print('Finished Training!')\n",
        "\n",
        "\n",
        "model = LSTM().to(device)\n",
        "optimizer = optim.Adam(model.parameters(), lr=0.001)\n",
        "\n",
        "train(model=model, optimizer=optimizer, num_epochs=10)"
      ],
      "metadata": {
        "colab": {
          "base_uri": "https://localhost:8080/"
        },
        "id": "p51oye4MG0BS",
        "outputId": "889ffaa9-f2fc-4e4b-f78f-63f4d6a66fdf"
      },
      "execution_count": 29,
      "outputs": [
        {
          "output_type": "stream",
          "name": "stdout",
          "text": [
            "Epoch [1/10], Step [2/50], Train Loss: 0.7293, Valid Loss: 0.5965\n",
            "Model saved to ==> /content/drive/My Drive/Colab Notebooks/Project//model.pt\n",
            "Model saved to ==> /content/drive/My Drive/Colab Notebooks/Project//metrics.pt\n",
            "Epoch [1/10], Step [4/50], Train Loss: 0.6546, Valid Loss: 0.5893\n",
            "Model saved to ==> /content/drive/My Drive/Colab Notebooks/Project//model.pt\n",
            "Model saved to ==> /content/drive/My Drive/Colab Notebooks/Project//metrics.pt\n",
            "Epoch [2/10], Step [6/50], Train Loss: 0.5153, Valid Loss: 0.6062\n",
            "Epoch [2/10], Step [8/50], Train Loss: 0.6985, Valid Loss: 0.5994\n",
            "Epoch [2/10], Step [10/50], Train Loss: 0.5994, Valid Loss: 0.5843\n",
            "Model saved to ==> /content/drive/My Drive/Colab Notebooks/Project//model.pt\n",
            "Model saved to ==> /content/drive/My Drive/Colab Notebooks/Project//metrics.pt\n",
            "Epoch [3/10], Step [12/50], Train Loss: 0.5669, Valid Loss: 0.5757\n",
            "Model saved to ==> /content/drive/My Drive/Colab Notebooks/Project//model.pt\n",
            "Model saved to ==> /content/drive/My Drive/Colab Notebooks/Project//metrics.pt\n",
            "Epoch [3/10], Step [14/50], Train Loss: 0.6428, Valid Loss: 0.5697\n",
            "Model saved to ==> /content/drive/My Drive/Colab Notebooks/Project//model.pt\n",
            "Model saved to ==> /content/drive/My Drive/Colab Notebooks/Project//metrics.pt\n",
            "Epoch [4/10], Step [16/50], Train Loss: 0.4956, Valid Loss: 0.5678\n",
            "Model saved to ==> /content/drive/My Drive/Colab Notebooks/Project//model.pt\n",
            "Model saved to ==> /content/drive/My Drive/Colab Notebooks/Project//metrics.pt\n",
            "Epoch [4/10], Step [18/50], Train Loss: 0.6248, Valid Loss: 0.5667\n",
            "Model saved to ==> /content/drive/My Drive/Colab Notebooks/Project//model.pt\n",
            "Model saved to ==> /content/drive/My Drive/Colab Notebooks/Project//metrics.pt\n",
            "Epoch [4/10], Step [20/50], Train Loss: 0.5582, Valid Loss: 0.5667\n",
            "Epoch [5/10], Step [22/50], Train Loss: 0.5490, Valid Loss: 0.5663\n",
            "Model saved to ==> /content/drive/My Drive/Colab Notebooks/Project//model.pt\n",
            "Model saved to ==> /content/drive/My Drive/Colab Notebooks/Project//metrics.pt\n",
            "Epoch [5/10], Step [24/50], Train Loss: 0.6210, Valid Loss: 0.5665\n",
            "Epoch [6/10], Step [26/50], Train Loss: 0.4750, Valid Loss: 0.5663\n",
            "Epoch [6/10], Step [28/50], Train Loss: 0.5991, Valid Loss: 0.5669\n",
            "Epoch [6/10], Step [30/50], Train Loss: 0.5429, Valid Loss: 0.5671\n",
            "Epoch [7/10], Step [32/50], Train Loss: 0.5306, Valid Loss: 0.5676\n",
            "Epoch [7/10], Step [34/50], Train Loss: 0.6125, Valid Loss: 0.5669\n",
            "Epoch [8/10], Step [36/50], Train Loss: 0.4435, Valid Loss: 0.5662\n",
            "Model saved to ==> /content/drive/My Drive/Colab Notebooks/Project//model.pt\n",
            "Model saved to ==> /content/drive/My Drive/Colab Notebooks/Project//metrics.pt\n",
            "Epoch [8/10], Step [38/50], Train Loss: 0.5837, Valid Loss: 0.5652\n",
            "Model saved to ==> /content/drive/My Drive/Colab Notebooks/Project//model.pt\n",
            "Model saved to ==> /content/drive/My Drive/Colab Notebooks/Project//metrics.pt\n",
            "Epoch [8/10], Step [40/50], Train Loss: 0.5332, Valid Loss: 0.5633\n",
            "Model saved to ==> /content/drive/My Drive/Colab Notebooks/Project//model.pt\n",
            "Model saved to ==> /content/drive/My Drive/Colab Notebooks/Project//metrics.pt\n",
            "Epoch [9/10], Step [42/50], Train Loss: 0.5103, Valid Loss: 0.5624\n",
            "Model saved to ==> /content/drive/My Drive/Colab Notebooks/Project//model.pt\n",
            "Model saved to ==> /content/drive/My Drive/Colab Notebooks/Project//metrics.pt\n",
            "Epoch [9/10], Step [44/50], Train Loss: 0.5903, Valid Loss: 0.5599\n",
            "Model saved to ==> /content/drive/My Drive/Colab Notebooks/Project//model.pt\n",
            "Model saved to ==> /content/drive/My Drive/Colab Notebooks/Project//metrics.pt\n",
            "Epoch [10/10], Step [46/50], Train Loss: 0.4480, Valid Loss: 0.5587\n",
            "Model saved to ==> /content/drive/My Drive/Colab Notebooks/Project//model.pt\n",
            "Model saved to ==> /content/drive/My Drive/Colab Notebooks/Project//metrics.pt\n",
            "Epoch [10/10], Step [48/50], Train Loss: 0.5705, Valid Loss: 0.5600\n",
            "Epoch [10/10], Step [50/50], Train Loss: 0.5168, Valid Loss: 0.5630\n",
            "Model saved to ==> /content/drive/My Drive/Colab Notebooks/Project//metrics.pt\n",
            "Finished Training!\n"
          ]
        }
      ]
    },
    {
      "cell_type": "code",
      "source": [
        "train_loss_list, valid_loss_list, global_steps_list = load_metrics(destination_folder + '/metrics.pt')\n",
        "plt.plot(global_steps_list, train_loss_list, label='Train')\n",
        "plt.plot(global_steps_list, valid_loss_list, label='Valid')\n",
        "plt.xlabel('Global Steps')\n",
        "plt.ylabel('Loss')\n",
        "plt.legend()\n",
        "plt.show() "
      ],
      "metadata": {
        "colab": {
          "base_uri": "https://localhost:8080/",
          "height": 296
        },
        "id": "ybfl94BIG5KJ",
        "outputId": "f8f6cee5-face-4905-a86c-2293a8ada838"
      },
      "execution_count": 30,
      "outputs": [
        {
          "output_type": "stream",
          "name": "stdout",
          "text": [
            "Model loaded from <== /content/drive/My Drive/Colab Notebooks/Project//metrics.pt\n"
          ]
        },
        {
          "output_type": "display_data",
          "data": {
            "text/plain": [
              "<Figure size 432x288 with 1 Axes>"
            ],
            "image/png": "[encoded data removed]"
          },
          "metadata": {
            "needs_background": "light"
          }
        }
      ]
    },
    {
      "cell_type": "code",
      "source": [
        ""
      ],
      "metadata": {
        "id": "3zwHL9k_KWLS"
      },
      "execution_count": null,
      "outputs": []
    }
  ]
}